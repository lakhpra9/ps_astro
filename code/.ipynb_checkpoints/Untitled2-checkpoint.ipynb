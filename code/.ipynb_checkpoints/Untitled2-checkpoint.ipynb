{
 "cells": [
  {
   "cell_type": "code",
   "execution_count": 149,
   "id": "855f0a6e",
   "metadata": {},
   "outputs": [],
   "source": [
    "zodiac_signs = ['मेष', 'वृषभ', 'मिथुन', 'कर्क', 'सिंह', 'कन्या', 'तुला', 'वृश्चिक', 'धनु', 'मकर', 'कुंभ', 'मीन']\n",
    "nakshatras = ['अश्विनी', 'भरणी', 'कृत्तिका', 'रोहिणी', 'मृगशीर्ष', 'आर्द्रा', 'पुनर्वसु', 'पुष्य', 'आश्लेषा', 'मघा', 'पूर्वफाल्गुनी', 'उत्तरफाल्गुनी', 'हस्त', 'चित्रा', 'स्वाति', 'विशाखा', 'अनूराधा', 'ज्येष्ठा', 'मूल', 'पूर्वाषाढ़ा', 'उत्तराषाढ़ा', 'श्रवण', 'श्रविष्ठा', 'शतभिषा', 'पूर्वभाद्रपद', 'उत्तरभाद्रपद', 'रेवती']\n",
    "padasList = ['1st Pada', '2nd Pada', '3rd Pada', '4th Pada']"
   ]
  },
  {
   "cell_type": "code",
   "execution_count": 150,
   "id": "73e438a7",
   "metadata": {
    "scrolled": true
   },
   "outputs": [
    {
     "name": "stdout",
     "output_type": "stream",
     "text": [
      "मेष\n",
      "भरणी 4th Pada\n",
      "rashi_ansh_kala: 23:49:39\n"
     ]
    }
   ],
   "source": [
    "import datetime\n",
    "import math\n",
    "import swisseph as swe\n",
    "swe.set_sid_mode(swe.SIDM_LAHIRI)\n",
    "\n",
    "# year = 1999\n",
    "# month = 4\n",
    "# day = 6\n",
    "# hour = 11\n",
    "# minute = 40\n",
    "# second = 0\n",
    "\n",
    "year = 1995\n",
    "month = 5\n",
    "day = 27\n",
    "hour = 22\n",
    "minute = 35\n",
    "second = 0\n",
    "timeZone = '+05:30'\n",
    "\n",
    "# year = 2000\n",
    "# month = 5\n",
    "# day = 31\n",
    "# hour = 3\n",
    "# minute = 0\n",
    "# second = 0\n",
    "\n",
    "month = f'0{month}' if month < 10 else month\n",
    "day = f'0{day}' if day < 10 else day\n",
    "hour = f'0{hour}' if hour < 10 else hour\n",
    "minute = f'0{minute}' if minute < 10 else minute\n",
    "second = f'0{second}' if second < 10 else second\n",
    "\n",
    "# input datetime in string format\n",
    "dt_str = f'{year}-{month}-{day} {hour}:{minute}:{second}{timeZone}'\n",
    "dt = datetime.datetime.fromisoformat(dt_str)\n",
    "offset = datetime.timedelta(hours=int(dt_str[-6:-3]), minutes=int(dt_str[-2:]))\n",
    "tz = datetime.timezone(offset)\n",
    "dt_utc = dt.astimezone(datetime.timezone.utc)\n",
    "\n",
    "jd = swe.utc_to_jd(dt_utc.year , dt_utc.month, dt_utc.day, dt_utc.hour, dt_utc.minute, dt_utc.second)\n",
    "jd = float(jd[1])\n",
    "ayanamsha = swe.get_ayanamsa_ut(jd)\n",
    "moon_pos = swe.calc_ut(jd, swe.MOON)[0][0]\n",
    "moon_sign = math.floor((moon_pos - ayanamsha) / 30.0) % 12\n",
    "\n",
    "nakshatra_num = math.floor((moon_pos - ayanamsha) / (360/27)) + 1\n",
    "nakshatra_num = (nakshatra_num - 1) % 27\n",
    "\n",
    "nakshatra_pada = math.floor((moon_pos - ayanamsha) / (360/(27*4)))\n",
    "nakshatra_pada = (nakshatra_pada) % 4\n",
    "\n",
    "base_vikalas = (((moon_pos - ayanamsha) % 30) * 60 * 60 )\n",
    "vikala = base_vikalas % 60\n",
    "kala = (base_vikalas - vikala)/60 % 60\n",
    "ansh = ((base_vikalas - vikala)/60 - kala) / 60 % 30\n",
    "\n",
    "vikala = math.floor(vikala)\n",
    "kala = math.floor(kala)\n",
    "ansh = math.floor(ansh)\n",
    "rashi_ansh_kala = f'{ansh}:{kala}:{vikala}'\n",
    "\n",
    "print(zodiac_signs[moon_sign])\n",
    "print(nakshatras[nakshatra_num], padasList[nakshatra_pada])\n",
    "print(f'rashi_ansh_kala: {rashi_ansh_kala}')"
   ]
  }
 ],
 "metadata": {
  "kernelspec": {
   "display_name": "venv",
   "language": "python",
   "name": "venv"
  },
  "language_info": {
   "codemirror_mode": {
    "name": "ipython",
    "version": 3
   },
   "file_extension": ".py",
   "mimetype": "text/x-python",
   "name": "python",
   "nbconvert_exporter": "python",
   "pygments_lexer": "ipython3",
   "version": "3.10.0"
  }
 },
 "nbformat": 4,
 "nbformat_minor": 5
}
