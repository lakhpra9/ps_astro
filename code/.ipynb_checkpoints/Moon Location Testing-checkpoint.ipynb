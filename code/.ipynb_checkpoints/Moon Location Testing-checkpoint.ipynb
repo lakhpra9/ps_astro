{
 "cells": [
  {
   "cell_type": "code",
   "execution_count": 108,
   "id": "50b919f1",
   "metadata": {},
   "outputs": [],
   "source": [
    "import astroMatch\n",
    "from importlib import reload\n",
    "x = reload(astroMatch)\n",
    "\n",
    "from astroMatch import MatchMaking"
   ]
  },
  {
   "cell_type": "code",
   "execution_count": 109,
   "id": "409b2bee",
   "metadata": {},
   "outputs": [
    {
     "data": {
      "text/plain": [
       "'0 [मेष] 23:49:39 | भरणी & 4th Pada'"
      ]
     },
     "execution_count": 109,
     "metadata": {},
     "output_type": "execute_result"
    }
   ],
   "source": [
    "year = 1995\n",
    "month = 5\n",
    "day = 27\n",
    "hour = 22\n",
    "minute = 35\n",
    "second = 0\n",
    "timeZone = '+05:30'\n",
    "\n",
    "dt_utc = MatchMaking().convert_standard_to_utc_time(year, month, day, hour, minute, second, timeZone)\n",
    "MatchMaking().moon(dt_utc).overview"
   ]
  },
  {
   "cell_type": "code",
   "execution_count": 110,
   "id": "d5160c20",
   "metadata": {},
   "outputs": [
    {
     "data": {
      "text/plain": [
       "'0 [मेष] 11:26:36 | अश्विनी & 4th Pada'"
      ]
     },
     "execution_count": 110,
     "metadata": {},
     "output_type": "execute_result"
    }
   ],
   "source": [
    "year = 2000\n",
    "month = 5\n",
    "day = 31\n",
    "hour = 3\n",
    "minute = 0\n",
    "second = 0\n",
    "timeZone = '+03:00'\n",
    "\n",
    "dt_utc = MatchMaking().convert_standard_to_utc_time(year, month, day, hour, minute, second, timeZone)\n",
    "MatchMaking().moon(dt_utc).overview"
   ]
  },
  {
   "cell_type": "code",
   "execution_count": 111,
   "id": "8081f68a",
   "metadata": {},
   "outputs": [
    {
     "data": {
      "text/plain": [
       "'5 [कन्या] 4:18:4 | उत्तरफाल्गुनी & 3rd Pada'"
      ]
     },
     "execution_count": 111,
     "metadata": {},
     "output_type": "execute_result"
    }
   ],
   "source": [
    "year = 1991\n",
    "month = 2\n",
    "day = 2\n",
    "hour = 21\n",
    "minute = 0\n",
    "second = 0\n",
    "timeZone = '+04:30'\n",
    "\n",
    "dt_utc = MatchMaking().convert_standard_to_utc_time(year, month, day, hour, minute, second, timeZone)\n",
    "MatchMaking().moon(dt_utc).overview"
   ]
  },
  {
   "cell_type": "code",
   "execution_count": 112,
   "id": "8ec126ca",
   "metadata": {},
   "outputs": [
    {
     "data": {
      "text/plain": [
       "'11 [मीन] 25:49:55 | रेवती & 3rd Pada'"
      ]
     },
     "execution_count": 112,
     "metadata": {},
     "output_type": "execute_result"
    }
   ],
   "source": [
    "year = 1999\n",
    "month = 12\n",
    "day = 17\n",
    "hour = 20\n",
    "minute = 14\n",
    "second = 0\n",
    "timeZone = '-03:00'\n",
    "\n",
    "dt_utc = MatchMaking().convert_standard_to_utc_time(year, month, day, hour, minute, second, timeZone)\n",
    "MatchMaking().moon(dt_utc).overview"
   ]
  },
  {
   "cell_type": "code",
   "execution_count": null,
   "id": "2e2019ca",
   "metadata": {},
   "outputs": [],
   "source": []
  }
 ],
 "metadata": {
  "kernelspec": {
   "display_name": "venv",
   "language": "python",
   "name": "venv"
  },
  "language_info": {
   "codemirror_mode": {
    "name": "ipython",
    "version": 3
   },
   "file_extension": ".py",
   "mimetype": "text/x-python",
   "name": "python",
   "nbconvert_exporter": "python",
   "pygments_lexer": "ipython3",
   "version": "3.10.0"
  }
 },
 "nbformat": 4,
 "nbformat_minor": 5
}
