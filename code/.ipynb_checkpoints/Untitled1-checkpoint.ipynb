{
 "cells": [
  {
   "cell_type": "code",
   "execution_count": 57,
   "id": "1fa9c758",
   "metadata": {},
   "outputs": [
    {
     "name": "stdout",
     "output_type": "stream",
     "text": [
      "मेष\n"
     ]
    }
   ],
   "source": [
    "import datetime\n",
    "import math\n",
    "import swisseph as swe\n",
    "\n",
    "# Set the Vadodara, Gujarat, India location\n",
    "lat = 22.3072\n",
    "lon = 73.1812\n",
    "\n",
    "year = 1995\n",
    "month = 5\n",
    "day = 27\n",
    "hour = 22\n",
    "minute = 35\n",
    "second = 0\n",
    "\n",
    "month = f'0{month}' if month < 10 else month\n",
    "day = f'0{day}' if day < 10 else day\n",
    "hour = f'0{hour}' if hour < 10 else hour\n",
    "minute = f'0{minute}' if minute < 10 else minute\n",
    "second = f'0{second}' if second < 10 else second\n",
    "\n",
    "# input datetime in string format\n",
    "dt_str = f'{year}-{month}-{day} {hour}:{minute}:{second}+05:30'\n",
    "dt = datetime.datetime.fromisoformat(dt_str)\n",
    "offset = datetime.timedelta(hours=int(dt_str[-6:-3]), minutes=int(dt_str[-2:]))\n",
    "tz = datetime.timezone(offset)\n",
    "dt_utc = dt.astimezone(datetime.timezone.utc)\n",
    "\n",
    "swe.set_sid_mode(swe.SIDM_LAHIRI)\n",
    "\n",
    "jd = swe.utc_to_jd(dt_utc.year , dt_utc.month, dt_utc.day, dt_utc.hour, dt_utc.minute, dt_utc.second)\n",
    "jd = float(jd[1])\n",
    "ayanamsha = swe.get_ayanamsa_ut(jd)\n",
    "moon_pos = swe.calc_ut(jd, swe.MOON)[0][0]\n",
    "moon_pos += swe.get_ayanamsa(jd) #- swe.sidtime(jd) #- (lon/15)\n",
    "\n",
    "moon_sign = math.floor((moon_pos - ayanamsha) / 30.0) % 12\n",
    "\n",
    "# moon_sign = math.floor((moon_pos / 30.0)) % 12\n",
    "\n",
    "zodiac_signs = ['मेष', 'वृषभ', 'मिथुन', 'कर्क', 'सिंह', 'कन्या', 'तुला', 'वृश्चिक', 'धनु', 'मकर', 'कुंभ', 'मीन']\n",
    "\n",
    "print(zodiac_signs[moon_sign])"
   ]
  },
  {
   "cell_type": "code",
   "execution_count": 56,
   "id": "f97cea28",
   "metadata": {},
   "outputs": [
    {
     "data": {
      "text/plain": [
       "1"
      ]
     },
     "execution_count": 56,
     "metadata": {},
     "output_type": "execute_result"
    }
   ],
   "source": [
    "math.floor((moon_pos / 30.0)) % 12"
   ]
  },
  {
   "cell_type": "code",
   "execution_count": 41,
   "id": "ed0b95a5",
   "metadata": {},
   "outputs": [
    {
     "data": {
      "text/plain": [
       "9.402284132837995"
      ]
     },
     "execution_count": 41,
     "metadata": {},
     "output_type": "execute_result"
    }
   ],
   "source": [
    "swe.sidtime(jd)"
   ]
  },
  {
   "cell_type": "code",
   "execution_count": 39,
   "id": "6669995f",
   "metadata": {},
   "outputs": [
    {
     "data": {
      "text/plain": [
       "23.792849994088954"
      ]
     },
     "execution_count": 39,
     "metadata": {},
     "output_type": "execute_result"
    }
   ],
   "source": [
    "swe.get_ayanamsa_ut(jd)"
   ]
  },
  {
   "cell_type": "code",
   "execution_count": 35,
   "id": "65139475",
   "metadata": {},
   "outputs": [
    {
     "data": {
      "text/plain": [
       "47.62047087662206"
      ]
     },
     "execution_count": 35,
     "metadata": {},
     "output_type": "execute_result"
    }
   ],
   "source": [
    "moon_pos"
   ]
  },
  {
   "cell_type": "code",
   "execution_count": null,
   "id": "6833f2b0",
   "metadata": {},
   "outputs": [],
   "source": []
  },
  {
   "cell_type": "code",
   "execution_count": null,
   "id": "ae67143a",
   "metadata": {},
   "outputs": [],
   "source": []
  },
  {
   "cell_type": "code",
   "execution_count": null,
   "id": "7e6a7f2d",
   "metadata": {},
   "outputs": [],
   "source": []
  },
  {
   "cell_type": "code",
   "execution_count": null,
   "id": "ce24c4dc",
   "metadata": {},
   "outputs": [],
   "source": []
  },
  {
   "cell_type": "code",
   "execution_count": 25,
   "id": "97314f2c",
   "metadata": {},
   "outputs": [
    {
     "name": "stdout",
     "output_type": "stream",
     "text": [
      "कुंभ\n"
     ]
    }
   ],
   "source": [
    "year = 1973\n",
    "month = 3\n",
    "day = 4\n",
    "hour = 3\n",
    "minute = 30\n",
    "second = 0\n",
    "\n",
    "month = f'0{month}' if month < 10 else month\n",
    "day = f'0{day}' if day < 10 else day\n",
    "hour = f'0{hour}' if hour < 10 else hour\n",
    "minute = f'0{minute}' if minute < 10 else minute\n",
    "second = f'0{second}' if second < 10 else second\n",
    "\n",
    "# input datetime in string format\n",
    "dt_str = f'{year}-{month}-{day} {hour}:{minute}:{second}+05:30'\n",
    "dt = datetime.datetime.fromisoformat(dt_str)\n",
    "offset = datetime.timedelta(hours=int(dt_str[-6:-3]), minutes=int(dt_str[-2:]))\n",
    "tz = datetime.timezone(offset)\n",
    "dt_utc = dt.astimezone(datetime.timezone.utc)\n",
    "\n",
    "jd = swe.utc_to_jd(dt_utc.year , dt_utc.month, dt_utc.day, dt_utc.hour, dt_utc.minute, dt_utc.second)\n",
    "jd = float(jd[1])\n",
    "ayanamsha = swe.get_ayanamsa_ut(jd)\n",
    "moon_pos = swe.calc_ut(jd, swe.MOON)[0][0]\n",
    "moon_sign = math.floor((moon_pos - ayanamsha) / 30.0) % 12\n",
    "\n",
    "zodiac_signs = ['मेष', 'वृषभ', 'मिथुन', 'कर्क', 'सिंह', 'कन्या', 'तुला', 'वृश्चिक', 'धनु', 'मकर', 'कुंभ', 'मीन']\n",
    "\n",
    "print(zodiac_signs[moon_sign])"
   ]
  },
  {
   "cell_type": "code",
   "execution_count": 29,
   "id": "8430be1f",
   "metadata": {},
   "outputs": [
    {
     "data": {
      "text/plain": [
       "329.7162596532217"
      ]
     },
     "execution_count": 29,
     "metadata": {},
     "output_type": "execute_result"
    }
   ],
   "source": [
    "moon_pos"
   ]
  },
  {
   "cell_type": "code",
   "execution_count": 32,
   "id": "8b4f4c36",
   "metadata": {},
   "outputs": [
    {
     "data": {
      "text/plain": [
       "24.365539890595926"
      ]
     },
     "execution_count": 32,
     "metadata": {},
     "output_type": "execute_result"
    }
   ],
   "source": [
    "ayanamsha"
   ]
  },
  {
   "cell_type": "code",
   "execution_count": 30,
   "id": "17436e07",
   "metadata": {},
   "outputs": [
    {
     "data": {
      "text/plain": [
       "305.3507197626258"
      ]
     },
     "execution_count": 30,
     "metadata": {},
     "output_type": "execute_result"
    }
   ],
   "source": [
    "(moon_pos - ayanamsha)"
   ]
  },
  {
   "cell_type": "code",
   "execution_count": 31,
   "id": "2e558111",
   "metadata": {},
   "outputs": [
    {
     "data": {
      "text/plain": [
       "24.365539890595926"
      ]
     },
     "execution_count": 31,
     "metadata": {},
     "output_type": "execute_result"
    }
   ],
   "source": [
    "ayanamsha"
   ]
  },
  {
   "cell_type": "code",
   "execution_count": 26,
   "id": "f5d7a3db",
   "metadata": {},
   "outputs": [
    {
     "data": {
      "text/plain": [
       "10.990541988440723"
      ]
     },
     "execution_count": 26,
     "metadata": {},
     "output_type": "execute_result"
    }
   ],
   "source": [
    "moon_pos/30"
   ]
  },
  {
   "cell_type": "code",
   "execution_count": 27,
   "id": "7e35fa25",
   "metadata": {},
   "outputs": [
    {
     "data": {
      "text/plain": [
       "'कुंभ'"
      ]
     },
     "execution_count": 27,
     "metadata": {},
     "output_type": "execute_result"
    }
   ],
   "source": [
    "zodiac_signs[int(moon_pos/30)]"
   ]
  },
  {
   "cell_type": "code",
   "execution_count": 58,
   "id": "af42e299",
   "metadata": {},
   "outputs": [],
   "source": [
    "import pytz"
   ]
  },
  {
   "cell_type": "code",
   "execution_count": 60,
   "id": "cbf44dff",
   "metadata": {},
   "outputs": [
    {
     "name": "stdout",
     "output_type": "stream",
     "text": [
      "Britain (UK)\n",
      "\t GB\n",
      "New Zealand\n",
      "\t NZ\n",
      "United States\n",
      "\t US/Alaska\n",
      "\t US/Aleutian\n",
      "\t US/Arizona\n",
      "\t US/Central\n",
      "\t US/East-Indiana\n",
      "\t US/Eastern\n",
      "\t US/Hawaii\n",
      "\t US/Indiana-Starke\n",
      "\t US/Michigan\n",
      "\t US/Mountain\n",
      "\t US/Pacific\n",
      "\t US/Samoa\n"
     ]
    }
   ],
   "source": [
    "# Create a dictionary of time zones keyed by country code\n",
    "time_zones = {}\n",
    "for zone in pytz.all_timezones:\n",
    "    country_code = zone.split('/')[0]\n",
    "    if country_code not in time_zones:\n",
    "        time_zones[country_code] = []\n",
    "    time_zones[country_code].append(zone)\n",
    "\n",
    "# Create a list of countries and their time zones\n",
    "countries = []\n",
    "for country_code, zones in time_zones.items():\n",
    "    country_name = pytz.country_names.get(country_code)\n",
    "    if country_name:\n",
    "        countries.append((country_name, zones))\n",
    "\n",
    "# Print the list of countries and their time zones\n",
    "for country in countries:\n",
    "    print(country[0])\n",
    "    for zone in country[1]:\n",
    "        print('\\t', zone)"
   ]
  },
  {
   "cell_type": "code",
   "execution_count": null,
   "id": "a85c9a61",
   "metadata": {},
   "outputs": [],
   "source": []
  }
 ],
 "metadata": {
  "kernelspec": {
   "display_name": "venv",
   "language": "python",
   "name": "venv"
  },
  "language_info": {
   "codemirror_mode": {
    "name": "ipython",
    "version": 3
   },
   "file_extension": ".py",
   "mimetype": "text/x-python",
   "name": "python",
   "nbconvert_exporter": "python",
   "pygments_lexer": "ipython3",
   "version": "3.10.0"
  }
 },
 "nbformat": 4,
 "nbformat_minor": 5
}
