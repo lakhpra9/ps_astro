{
 "cells": [
  {
   "cell_type": "code",
   "execution_count": 17,
   "id": "08201e4a",
   "metadata": {},
   "outputs": [],
   "source": [
    "import numpy as np\n",
    "import pandas as pd\n",
    "import math"
   ]
  },
  {
   "cell_type": "code",
   "execution_count": 18,
   "id": "46bfbcbf",
   "metadata": {},
   "outputs": [],
   "source": [
    "import astroMatch\n",
    "from importlib import reload\n",
    "x = reload(astroMatch)\n",
    "\n",
    "from astroMatch import MatchMaking, get_asthakoot_base_df, get_person_asthkoot_df\n",
    "from astroMatch import get_matchmaking_df\n",
    "\n",
    "df = get_asthakoot_base_df()"
   ]
  },
  {
   "cell_type": "code",
   "execution_count": 19,
   "id": "4daa64df",
   "metadata": {},
   "outputs": [],
   "source": [
    "points = {}"
   ]
  },
  {
   "cell_type": "code",
   "execution_count": 30,
   "id": "75127d14",
   "metadata": {
    "scrolled": true
   },
   "outputs": [],
   "source": [
    "year = 1995\n",
    "month = 5\n",
    "day = 27\n",
    "hour = 22\n",
    "minute = 35\n",
    "second = 0\n",
    "timeZone = '+05:30'\n",
    "\n",
    "dt_utc = MatchMaking().convert_standard_to_utc_time(year, month, day, hour, minute, second, timeZone)\n",
    "mon_pos = MatchMaking().moon(dt_utc).position\n",
    "maledf = get_person_asthkoot_df(df, mon_pos)\n",
    "\n",
    "# year = 1995\n",
    "# month = 5\n",
    "# day = 13\n",
    "# hour = 22\n",
    "# minute = 35\n",
    "# second = 0\n",
    "# timeZone = '+05:30'\n",
    "\n",
    "# dt_utc = MatchMaking().convert_standard_to_utc_time(year, month, day, hour, minute, second, timeZone)\n",
    "# mon_pos = MatchMaking().moon(dt_utc).position\n",
    "# femaledf = get_person_asthkoot_df(df, mon_pos)\n",
    "\n",
    "# dfM = get_matchmaking_df(maledf, femaledf)\n",
    "# total_points = sum(dfM[~dfM['Obtained'].eq('')]['Obtained'].tolist())"
   ]
  },
  {
   "cell_type": "code",
   "execution_count": 21,
   "id": "8721da7f",
   "metadata": {
    "scrolled": true
   },
   "outputs": [
    {
     "name": "stdout",
     "output_type": "stream",
     "text": [
      "1 Total points = 23.5\n",
      "2 Total points = 23.5\n",
      "3 Total points = 17.0\n",
      "4 Total points = 26.0\n",
      "5 Total points = 25.0\n",
      "6 Total points = 21.5\n",
      "7 Total points = 23.5\n",
      "8 Total points = 20.0\n",
      "9 Total points = 18.0\n",
      "10 Total points = 20.5\n",
      "11 Total points = 19.0\n",
      "12 Total points = 5.0\n",
      "13 Total points = 28.5\n",
      "14 Total points = 22.5\n",
      "15 Total points = 14.5\n",
      "16 Total points = 17.5\n",
      "17 Total points = 20.0\n",
      "18 Total points = 27.0\n",
      "19 Total points = 27.0\n",
      "20 Total points = 11.0\n",
      "21 Total points = 20.0\n",
      "22 Total points = 24.0\n",
      "23 Total points = 15.5\n",
      "24 Total points = 15.5\n",
      "25 Total points = 24.5\n",
      "26 Total points = 28.0\n",
      "27 Total points = 28.0\n",
      "28 Total points = 20.0\n",
      "29 Total points = 23.5\n",
      "30 Total points = 17.0\n",
      "31 Total points = 26.0\n"
     ]
    }
   ],
   "source": [
    "thisRange = range(1,32)\n",
    "\n",
    "for val in thisRange:\n",
    "    day = val\n",
    "    dt_utc = MatchMaking().convert_standard_to_utc_time(year, month, day, hour, minute, second, timeZone)\n",
    "    mon_pos = MatchMaking().moon(dt_utc).position\n",
    "    femaledf = get_person_asthkoot_df(df, mon_pos)\n",
    "\n",
    "    dfM = get_matchmaking_df(maledf, femaledf)\n",
    "    total_points = sum(dfM[~dfM['Obtained'].eq('')]['Obtained'].tolist())\n",
    "    points[val] = total_points\n",
    "    \n",
    "    print(val, f'Total points = {total_points}')"
   ]
  },
  {
   "cell_type": "code",
   "execution_count": 27,
   "id": "47e758ab",
   "metadata": {},
   "outputs": [],
   "source": [
    "# dfRes = pd.DataFrame(data=points.items(), columns=['Days', 'Gunas'])\n",
    "# dfRes.to_excel('First_Result_Overview.xlsx', index=None)"
   ]
  }
 ],
 "metadata": {
  "kernelspec": {
   "display_name": "venv",
   "language": "python",
   "name": "venv"
  },
  "language_info": {
   "codemirror_mode": {
    "name": "ipython",
    "version": 3
   },
   "file_extension": ".py",
   "mimetype": "text/x-python",
   "name": "python",
   "nbconvert_exporter": "python",
   "pygments_lexer": "ipython3",
   "version": "3.10.0"
  }
 },
 "nbformat": 4,
 "nbformat_minor": 5
}
