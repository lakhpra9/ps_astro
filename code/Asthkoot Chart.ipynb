{
 "cells": [
  {
   "cell_type": "code",
   "execution_count": 3,
   "id": "08201e4a",
   "metadata": {},
   "outputs": [],
   "source": [
    "import numpy as np\n",
    "import pandas as pd\n",
    "import math"
   ]
  },
  {
   "cell_type": "code",
   "execution_count": 4,
   "id": "46bfbcbf",
   "metadata": {},
   "outputs": [],
   "source": [
    "import astroMatch\n",
    "from importlib import reload\n",
    "x = reload(astroMatch)\n",
    "\n",
    "from astroMatch import MatchMaking, get_asthakoot_base_df, get_person_asthkoot_df\n",
    "from astroMatch import get_matchmaking_df\n",
    "\n",
    "df = get_asthakoot_base_df()"
   ]
  },
  {
   "cell_type": "code",
   "execution_count": 5,
   "id": "75127d14",
   "metadata": {
    "scrolled": true
   },
   "outputs": [
    {
     "name": "stdout",
     "output_type": "stream",
     "text": [
      "dfFin [{\"nakshatra\":1,\"varna\":\"\\u0915\\u094d\\u0937\\u0924\\u094d\\u0930\\u093f\\u092f\",\"vashya\":\"\\u091a\\u0924\\u0941\\u0937\\u094d\\u092a\\u0926\",\"Tara\":\"\",\"yoni\":\"\\u0917\\u091c\",\"graha maitri\":\"\\u092e\\u0902\\u0917\\u0932\",\"gana\":\"\\u092e\\u0928\\u0941\\u0937\\u094d\\u092f\",\"bhakut\":\"\\u092e\\u0947\\u0937\",\"naadi\":\"\\u092e\\u0927\\u094d\\u092f\"}]\n"
     ]
    }
   ],
   "source": [
    "year = 1995\n",
    "month = 5\n",
    "day = 27\n",
    "hour = 22\n",
    "minute = 35\n",
    "second = 0\n",
    "timeZone = '+05:30'\n",
    "\n",
    "dt_utc = MatchMaking().convert_standard_to_utc_time(year, month, day, hour, minute, second, timeZone)\n",
    "mon_pos = MatchMaking().moon(dt_utc).position\n",
    "maledf = get_person_asthkoot_df(df, mon_pos)\n",
    "\n",
    "# year = 2000\n",
    "# month = 5\n",
    "# day = 31\n",
    "# hour = 3\n",
    "# minute = 0\n",
    "# second = 0\n",
    "# timeZone = '+03:00'\n",
    "\n",
    "# dt_utc = MatchMaking().convert_standard_to_utc_time(year, month, day, hour, minute, second, timeZone)\n",
    "# mon_pos = MatchMaking().moon(dt_utc).position\n",
    "# femaledf = get_person_asthkoot_df(df, mon_pos)\n",
    "\n",
    "# dfM = get_matchmaking_df(maledf, femaledf)\n",
    "# total_points = sum(dfM[~dfM['Obtained'].eq('')]['Obtained'].tolist())\n",
    "# print(f'Total points = {total_points}')"
   ]
  },
  {
   "cell_type": "code",
   "execution_count": null,
   "id": "261a5c4a",
   "metadata": {},
   "outputs": [],
   "source": [
    "maledf.to_json(orient='records')"
   ]
  },
  {
   "cell_type": "code",
   "execution_count": null,
   "id": "2ee136b8",
   "metadata": {},
   "outputs": [],
   "source": [
    "points = {}\n",
    "dfs = {}"
   ]
  },
  {
   "cell_type": "code",
   "execution_count": null,
   "id": "f9fedb42",
   "metadata": {},
   "outputs": [],
   "source": [
    "year = 1995\n",
    "month = 5\n",
    "day = 27\n",
    "hour = 22\n",
    "minute = 35\n",
    "second = 0\n",
    "timeZone = '+05:30'\n",
    "\n",
    "dt_utc = MatchMaking().convert_standard_to_utc_time(year, month, day, hour, minute, second, timeZone)\n",
    "mon_pos = MatchMaking().moon(dt_utc).position\n",
    "maledf = get_person_asthkoot_df(df, mon_pos)"
   ]
  },
  {
   "cell_type": "code",
   "execution_count": null,
   "id": "0d437e82",
   "metadata": {},
   "outputs": [],
   "source": [
    "from datetime import date, timedelta\n",
    "\n",
    "start_date = date(1996, 1, 1) #date(year, month, day)\n",
    "end_date = date(2001, 1, 1)\n",
    "delta = timedelta(days=1)\n",
    "\n",
    "dates = []\n",
    "while start_date <= end_date:\n",
    "    dates.append(start_date)\n",
    "    start_date += delta"
   ]
  },
  {
   "cell_type": "code",
   "execution_count": null,
   "id": "0ee95ea5",
   "metadata": {
    "scrolled": true
   },
   "outputs": [],
   "source": [
    "seq_n = 0\n",
    "for thisdate in dates:\n",
    "    year = thisdate.year\n",
    "    month = thisdate.month\n",
    "    day = thisdate.day\n",
    "    timeZone = '+05:30'\n",
    "    \n",
    "    dt_utc = MatchMaking().convert_standard_to_utc_time(year, month, day, hour, minute, second, timeZone)\n",
    "    mon_pos = MatchMaking().moon(dt_utc).position\n",
    "    femaledf = get_person_asthkoot_df(df, mon_pos)\n",
    "\n",
    "    dfM = get_matchmaking_df(maledf, femaledf)\n",
    "    total_points = sum(dfM[~dfM['Obtained'].eq('')]['Obtained'].tolist())\n",
    "    \n",
    "    points[thisdate] = total_points\n",
    "    dfs[seq_n] = dfM\n",
    "    \n",
    "    seq_n += 1\n",
    "    print(thisdate, f'Total points = {total_points}')"
   ]
  },
  {
   "cell_type": "code",
   "execution_count": null,
   "id": "53a07989",
   "metadata": {},
   "outputs": [],
   "source": [
    "dfRes = pd.DataFrame(data=points.items(), columns=['Days', 'Gunas'])\n",
    "# dfRes.to_excel('First_Result_Overview.xlsx', index=None)"
   ]
  },
  {
   "cell_type": "code",
   "execution_count": null,
   "id": "653ad32a",
   "metadata": {
    "scrolled": true
   },
   "outputs": [],
   "source": [
    "# dfs[67]"
   ]
  },
  {
   "cell_type": "code",
   "execution_count": null,
   "id": "4b5346a9",
   "metadata": {},
   "outputs": [],
   "source": [
    "dfRes.describe()"
   ]
  },
  {
   "cell_type": "code",
   "execution_count": null,
   "id": "c4d352f3",
   "metadata": {},
   "outputs": [],
   "source": [
    "dfRes[dfRes['Gunas'] == 33.0]"
   ]
  },
  {
   "cell_type": "code",
   "execution_count": null,
   "id": "97533a45",
   "metadata": {},
   "outputs": [],
   "source": [
    "dfs[1802]"
   ]
  },
  {
   "cell_type": "code",
   "execution_count": null,
   "id": "b08ea73a",
   "metadata": {},
   "outputs": [],
   "source": []
  }
 ],
 "metadata": {
  "kernelspec": {
   "display_name": "venv",
   "language": "python",
   "name": "venv"
  },
  "language_info": {
   "codemirror_mode": {
    "name": "ipython",
    "version": 3
   },
   "file_extension": ".py",
   "mimetype": "text/x-python",
   "name": "python",
   "nbconvert_exporter": "python",
   "pygments_lexer": "ipython3",
   "version": "3.10.0"
  }
 },
 "nbformat": 4,
 "nbformat_minor": 5
}
