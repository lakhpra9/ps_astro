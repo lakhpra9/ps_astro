{
 "cells": [
  {
   "cell_type": "code",
   "execution_count": 7,
   "id": "2c6c00d5",
   "metadata": {},
   "outputs": [
    {
     "ename": "AttributeError",
     "evalue": "module 'swisseph' has no attribute 'get_geopos'",
     "output_type": "error",
     "traceback": [
      "\u001b[1;31m---------------------------------------------------------------------------\u001b[0m",
      "\u001b[1;31mAttributeError\u001b[0m                            Traceback (most recent call last)",
      "Cell \u001b[1;32mIn[7], line 16\u001b[0m\n\u001b[0;32m     14\u001b[0m state_name \u001b[38;5;241m=\u001b[39m \u001b[38;5;124m\"\u001b[39m\u001b[38;5;124mGujarat\u001b[39m\u001b[38;5;124m\"\u001b[39m\n\u001b[0;32m     15\u001b[0m country_name \u001b[38;5;241m=\u001b[39m \u001b[38;5;124m\"\u001b[39m\u001b[38;5;124mIndia\u001b[39m\u001b[38;5;124m\"\u001b[39m\n\u001b[1;32m---> 16\u001b[0m latitude, longitude \u001b[38;5;241m=\u001b[39m \u001b[43mswe\u001b[49m\u001b[38;5;241;43m.\u001b[39;49m\u001b[43mget_geopos\u001b[49m(city_name, state_name, country_name)\n\u001b[0;32m     18\u001b[0m \u001b[38;5;66;03m# # Initialize the Swiss Ephemeris library\u001b[39;00m\n\u001b[0;32m     19\u001b[0m \u001b[38;5;66;03m# swe.set_ephe_path('ephe') # Set the path to the ephemeris data files\u001b[39;00m\n\u001b[0;32m     20\u001b[0m \u001b[38;5;66;03m# ayanamsha = swe.get_ayanamsa_ut(swe.utc_to_jd(year, month, day, hour, minute, second, timezone))\u001b[39;00m\n\u001b[0;32m     21\u001b[0m \n\u001b[0;32m     22\u001b[0m \u001b[38;5;66;03m# # Calculate the Moon's position\u001b[39;00m\n",
      "\u001b[1;31mAttributeError\u001b[0m: module 'swisseph' has no attribute 'get_geopos'"
     ]
    }
   ],
   "source": [
    "import swisseph as swe\n",
    "\n",
    "# Set the input date and time in India Standard Time\n",
    "year = 1995\n",
    "month = 5\n",
    "day = 27\n",
    "hour = 22\n",
    "minute = 35\n",
    "second = 0\n",
    "timezone = 5.5 # Time zone in India (GMT+5:30)\n",
    "\n",
    "# Get the latitude and longitude of Vadodara, Gujarat, India\n",
    "city_name = \"Vadodara\"\n",
    "state_name = \"Gujarat\"\n",
    "country_name = \"India\"\n",
    "latitude, longitude = swe.get_geopos(city_name, state_name, country_name)\n",
    "\n",
    "# # Initialize the Swiss Ephemeris library\n",
    "# swe.set_ephe_path('ephe') # Set the path to the ephemeris data files\n",
    "# ayanamsha = swe.get_ayanamsa_ut(swe.utc_to_jd(year, month, day, hour, minute, second, timezone))\n",
    "\n",
    "# # Calculate the Moon's position"
   ]
  },
  {
   "cell_type": "code",
   "execution_count": 5,
   "id": "04d9543d",
   "metadata": {},
   "outputs": [
    {
     "ename": "TypeError",
     "evalue": "'float' object cannot be interpreted as an integer",
     "output_type": "error",
     "traceback": [
      "\u001b[1;31m---------------------------------------------------------------------------\u001b[0m",
      "\u001b[1;31mTypeError\u001b[0m                                 Traceback (most recent call last)",
      "Cell \u001b[1;32mIn[5], line 1\u001b[0m\n\u001b[1;32m----> 1\u001b[0m \u001b[43mswe\u001b[49m\u001b[38;5;241;43m.\u001b[39;49m\u001b[43mutc_to_jd\u001b[49m\u001b[43m(\u001b[49m\u001b[43myear\u001b[49m\u001b[43m,\u001b[49m\u001b[43m \u001b[49m\u001b[43mmonth\u001b[49m\u001b[43m,\u001b[49m\u001b[43m \u001b[49m\u001b[43mday\u001b[49m\u001b[43m,\u001b[49m\u001b[43m \u001b[49m\u001b[43mhour\u001b[49m\u001b[43m,\u001b[49m\u001b[43m \u001b[49m\u001b[43mminute\u001b[49m\u001b[43m,\u001b[49m\u001b[43m \u001b[49m\u001b[43msecond\u001b[49m\u001b[43m,\u001b[49m\u001b[43m \u001b[49m\u001b[43mtimezone\u001b[49m\u001b[43m)\u001b[49m\n",
      "\u001b[1;31mTypeError\u001b[0m: 'float' object cannot be interpreted as an integer"
     ]
    }
   ],
   "source": [
    "swe.utc_to_jd(year, month, day, hour, minute, second, timezone)"
   ]
  },
  {
   "cell_type": "code",
   "execution_count": 4,
   "id": "c0e0f84e",
   "metadata": {},
   "outputs": [
    {
     "ename": "TypeError",
     "evalue": "'float' object cannot be interpreted as an integer",
     "output_type": "error",
     "traceback": [
      "\u001b[1;31m---------------------------------------------------------------------------\u001b[0m",
      "\u001b[1;31mTypeError\u001b[0m                                 Traceback (most recent call last)",
      "Cell \u001b[1;32mIn[4], line 3\u001b[0m\n\u001b[0;32m      1\u001b[0m \u001b[38;5;66;03m# Initialize the Swiss Ephemeris library\u001b[39;00m\n\u001b[0;32m      2\u001b[0m swe\u001b[38;5;241m.\u001b[39mset_ephe_path(\u001b[38;5;124m'\u001b[39m\u001b[38;5;124mephe\u001b[39m\u001b[38;5;124m'\u001b[39m) \u001b[38;5;66;03m# Set the path to the ephemeris data files\u001b[39;00m\n\u001b[1;32m----> 3\u001b[0m ayanamsha \u001b[38;5;241m=\u001b[39m swe\u001b[38;5;241m.\u001b[39mget_ayanamsa_ut(\u001b[43mswe\u001b[49m\u001b[38;5;241;43m.\u001b[39;49m\u001b[43mutc_to_jd\u001b[49m\u001b[43m(\u001b[49m\u001b[43myear\u001b[49m\u001b[43m,\u001b[49m\u001b[43m \u001b[49m\u001b[43mmonth\u001b[49m\u001b[43m,\u001b[49m\u001b[43m \u001b[49m\u001b[43mday\u001b[49m\u001b[43m,\u001b[49m\u001b[43m \u001b[49m\u001b[43mhour\u001b[49m\u001b[43m,\u001b[49m\u001b[43m \u001b[49m\u001b[43mminute\u001b[49m\u001b[43m,\u001b[49m\u001b[43m \u001b[49m\u001b[43msecond\u001b[49m\u001b[43m,\u001b[49m\u001b[43m \u001b[49m\u001b[43mtimezone\u001b[49m\u001b[43m)\u001b[49m)\n\u001b[0;32m      5\u001b[0m \u001b[38;5;66;03m# Calculate the Moon's position\u001b[39;00m\n",
      "\u001b[1;31mTypeError\u001b[0m: 'float' object cannot be interpreted as an integer"
     ]
    }
   ],
   "source": [
    "# Initialize the Swiss Ephemeris library\n",
    "swe.set_ephe_path('ephe') # Set the path to the ephemeris data files\n",
    "ayanamsha = swe.get_ayanamsa_ut(swe.utc_to_jd(year, month, day, hour, minute, second, timezone))\n",
    "\n",
    "# Calculate the Moon's position"
   ]
  },
  {
   "cell_type": "code",
   "execution_count": 8,
   "id": "3f216dc4",
   "metadata": {},
   "outputs": [
    {
     "ename": "TypeError",
     "evalue": "'float' object cannot be interpreted as an integer",
     "output_type": "error",
     "traceback": [
      "\u001b[1;31m---------------------------------------------------------------------------\u001b[0m",
      "\u001b[1;31mTypeError\u001b[0m                                 Traceback (most recent call last)",
      "Cell \u001b[1;32mIn[8], line 18\u001b[0m\n\u001b[0;32m     16\u001b[0m \u001b[38;5;66;03m# Initialize the Swiss Ephemeris library\u001b[39;00m\n\u001b[0;32m     17\u001b[0m swe\u001b[38;5;241m.\u001b[39mset_ephe_path(\u001b[38;5;124m'\u001b[39m\u001b[38;5;124mephe\u001b[39m\u001b[38;5;124m'\u001b[39m) \u001b[38;5;66;03m# Set the path to the ephemeris data files\u001b[39;00m\n\u001b[1;32m---> 18\u001b[0m ayanamsha \u001b[38;5;241m=\u001b[39m swe\u001b[38;5;241m.\u001b[39mget_ayanamsa_ut(\u001b[43mswe\u001b[49m\u001b[38;5;241;43m.\u001b[39;49m\u001b[43mutc_to_jd\u001b[49m\u001b[43m(\u001b[49m\u001b[43myear\u001b[49m\u001b[43m,\u001b[49m\u001b[43m \u001b[49m\u001b[43mmonth\u001b[49m\u001b[43m,\u001b[49m\u001b[43m \u001b[49m\u001b[43mday\u001b[49m\u001b[43m,\u001b[49m\u001b[43m \u001b[49m\u001b[43mhour\u001b[49m\u001b[43m,\u001b[49m\u001b[43m \u001b[49m\u001b[43mminute\u001b[49m\u001b[43m,\u001b[49m\u001b[43m \u001b[49m\u001b[43msecond\u001b[49m\u001b[43m,\u001b[49m\u001b[43m \u001b[49m\u001b[43mtimezone\u001b[49m\u001b[43m)\u001b[49m)\n\u001b[0;32m     20\u001b[0m \u001b[38;5;66;03m# Calculate the Moon's position\u001b[39;00m\n",
      "\u001b[1;31mTypeError\u001b[0m: 'float' object cannot be interpreted as an integer"
     ]
    }
   ],
   "source": [
    "import swisseph as swe\n",
    "\n",
    "# Set the input date and time in India Standard Time\n",
    "year = 1995\n",
    "month = 5\n",
    "day = 27\n",
    "hour = 22\n",
    "minute = 35\n",
    "second = 0\n",
    "timezone = 5.5 # Time zone in India (GMT+5:30)\n",
    "\n",
    "# Set the latitude and longitude of Vadodara, Gujarat, India\n",
    "latitude = 22.3072\n",
    "longitude = 73.1812\n",
    "\n",
    "# Initialize the Swiss Ephemeris library\n",
    "swe.set_ephe_path('ephe') # Set the path to the ephemeris data files\n",
    "ayanamsha = swe.get_ayanamsa_ut(swe.utc_to_jd(year, month, day, hour, minute, second, timezone))\n",
    "\n",
    "# Calculate the Moon's position"
   ]
  },
  {
   "cell_type": "code",
   "execution_count": 11,
   "id": "24f62a1a",
   "metadata": {},
   "outputs": [],
   "source": [
    "import swisseph as swe\n",
    "\n",
    "# Set the input date and time in India Standard Time\n",
    "year = 1995\n",
    "month = 5\n",
    "day = 27\n",
    "hour = 22\n",
    "minute = 35\n",
    "second = 0\n",
    "timezone = 5.5 # Time zone in India (GMT+5:30)\n",
    "\n",
    "# Set the latitude and longitude of Vadodara, Gujarat, India\n",
    "latitude = 22.3072\n",
    "longitude = 73.1812\n",
    "\n",
    "# Initialize the Swiss Ephemeris library\n",
    "swe.set_ephe_path('ephe') # Set the path to the ephemeris data files\n",
    "# jd = int(swe.utc_to_jd(year, month, day, hour, minute, second, timezone))\n",
    "# ayanamsha = swe.get_ayanamsa_ut(jd)"
   ]
  },
  {
   "cell_type": "code",
   "execution_count": 12,
   "id": "4a160f06",
   "metadata": {},
   "outputs": [
    {
     "ename": "TypeError",
     "evalue": "'float' object cannot be interpreted as an integer",
     "output_type": "error",
     "traceback": [
      "\u001b[1;31m---------------------------------------------------------------------------\u001b[0m",
      "\u001b[1;31mTypeError\u001b[0m                                 Traceback (most recent call last)",
      "Cell \u001b[1;32mIn[12], line 1\u001b[0m\n\u001b[1;32m----> 1\u001b[0m \u001b[43mswe\u001b[49m\u001b[38;5;241;43m.\u001b[39;49m\u001b[43mutc_to_jd\u001b[49m\u001b[43m(\u001b[49m\u001b[43myear\u001b[49m\u001b[43m,\u001b[49m\u001b[43m \u001b[49m\u001b[43mmonth\u001b[49m\u001b[43m,\u001b[49m\u001b[43m \u001b[49m\u001b[43mday\u001b[49m\u001b[43m,\u001b[49m\u001b[43m \u001b[49m\u001b[43mhour\u001b[49m\u001b[43m,\u001b[49m\u001b[43m \u001b[49m\u001b[43mminute\u001b[49m\u001b[43m,\u001b[49m\u001b[43m \u001b[49m\u001b[43msecond\u001b[49m\u001b[43m,\u001b[49m\u001b[43m \u001b[49m\u001b[43mtimezone\u001b[49m\u001b[43m)\u001b[49m\n",
      "\u001b[1;31mTypeError\u001b[0m: 'float' object cannot be interpreted as an integer"
     ]
    }
   ],
   "source": [
    "swe.utc_to_jd(year, month, day, hour, minute, second, timezone)"
   ]
  },
  {
   "cell_type": "code",
   "execution_count": 13,
   "id": "8c5d4703",
   "metadata": {},
   "outputs": [
    {
     "ename": "TypeError",
     "evalue": "'float' object cannot be interpreted as an integer",
     "output_type": "error",
     "traceback": [
      "\u001b[1;31m---------------------------------------------------------------------------\u001b[0m",
      "\u001b[1;31mTypeError\u001b[0m                                 Traceback (most recent call last)",
      "Cell \u001b[1;32mIn[13], line 18\u001b[0m\n\u001b[0;32m     16\u001b[0m \u001b[38;5;66;03m# Initialize the Swiss Ephemeris library\u001b[39;00m\n\u001b[0;32m     17\u001b[0m swe\u001b[38;5;241m.\u001b[39mset_ephe_path(\u001b[38;5;124m'\u001b[39m\u001b[38;5;124mephe\u001b[39m\u001b[38;5;124m'\u001b[39m) \u001b[38;5;66;03m# Set the path to the ephemeris data files\u001b[39;00m\n\u001b[1;32m---> 18\u001b[0m jd \u001b[38;5;241m=\u001b[39m \u001b[43mswe\u001b[49m\u001b[38;5;241;43m.\u001b[39;49m\u001b[43mutc_to_jd\u001b[49m\u001b[43m(\u001b[49m\u001b[43myear\u001b[49m\u001b[43m,\u001b[49m\u001b[43m \u001b[49m\u001b[43mmonth\u001b[49m\u001b[43m,\u001b[49m\u001b[43m \u001b[49m\u001b[43mday\u001b[49m\u001b[43m,\u001b[49m\u001b[43m \u001b[49m\u001b[43mhour\u001b[49m\u001b[43m,\u001b[49m\u001b[43m \u001b[49m\u001b[43mminute\u001b[49m\u001b[43m,\u001b[49m\u001b[43m \u001b[49m\u001b[43msecond\u001b[49m\u001b[43m,\u001b[49m\u001b[43m \u001b[49m\u001b[43mtimezone\u001b[49m\u001b[43m)\u001b[49m\n",
      "\u001b[1;31mTypeError\u001b[0m: 'float' object cannot be interpreted as an integer"
     ]
    }
   ],
   "source": [
    "import swisseph as swe\n",
    "\n",
    "# Set the input date and time in India Standard Time\n",
    "year = 1995\n",
    "month = 5\n",
    "day = 27\n",
    "hour = int(22)\n",
    "minute = int(35)\n",
    "second = int(0)\n",
    "timezone = 5.5 # Time zone in India (GMT+5:30)\n",
    "\n",
    "# Set the latitude and longitude of Vadodara, Gujarat, India\n",
    "latitude = 22.3072\n",
    "longitude = 73.1812\n",
    "\n",
    "# Initialize the Swiss Ephemeris library\n",
    "swe.set_ephe_path('ephe') # Set the path to the ephemeris data files\n",
    "jd = swe.utc_to_jd(year, month, day, hour, minute, second, timezone)"
   ]
  },
  {
   "cell_type": "code",
   "execution_count": 91,
   "id": "7447be73",
   "metadata": {},
   "outputs": [],
   "source": [
    "import datetime\n",
    "import math\n",
    "\n",
    "year = 1995\n",
    "month = 5\n",
    "day = 27\n",
    "hour = 22\n",
    "minute = 35\n",
    "second = 0\n",
    "\n",
    "month = f'0{month}' if month < 10 else month\n",
    "day = f'0{day}' if day < 10 else day\n",
    "minute = f'0{minute}' if minute < 10 else minute\n",
    "second = f'0{second}' if second < 10 else second\n",
    "\n",
    "# input datetime in string format\n",
    "dt_str = f'{year}-{month}-{day} {hour}:{minute}:{second}+05:30'\n",
    "dt = datetime.datetime.fromisoformat(dt_str)\n",
    "offset = datetime.timedelta(hours=int(dt_str[-6:-3]), minutes=int(dt_str[-2:]))\n",
    "tz = datetime.timezone(offset)\n",
    "dt_utc = dt.astimezone(datetime.timezone.utc)\n",
    "jd = swe.utc_to_jd(dt_utc.year , dt_utc.month, dt_utc.day, dt_utc.hour, dt_utc.minute, dt_utc.second)\n",
    "jd = float(jd[1])\n",
    "ayanamsha = swe.get_ayanamsa_ut(jd)\n",
    "moon_pos = swe.calc_ut(jd, swe.MOON)[0][0]\n",
    "moon_sign = math.floor((moon_pos - ayanamsha) / 30.0) % 12\n",
    "\n",
    "zodiac_signs = ['मेष', 'वृषभ', 'मिथुन', 'कर्कट', 'सिंह', 'कन्या', 'तुला', 'वृश्चिक', 'धनु', 'मकर', 'कुंभ', 'मीन']"
   ]
  },
  {
   "cell_type": "code",
   "execution_count": null,
   "id": "a9e7bd86",
   "metadata": {},
   "outputs": [],
   "source": [
    "zodiac_signs[moon_sign]"
   ]
  },
  {
   "cell_type": "code",
   "execution_count": 92,
   "id": "8f90a747",
   "metadata": {},
   "outputs": [
    {
     "data": {
      "text/plain": [
       "0"
      ]
     },
     "execution_count": 92,
     "metadata": {},
     "output_type": "execute_result"
    }
   ],
   "source": [
    "moon_sign"
   ]
  },
  {
   "cell_type": "code",
   "execution_count": null,
   "id": "d9f3c985",
   "metadata": {},
   "outputs": [],
   "source": []
  }
 ],
 "metadata": {
  "kernelspec": {
   "display_name": "venv",
   "language": "python",
   "name": "venv"
  },
  "language_info": {
   "codemirror_mode": {
    "name": "ipython",
    "version": 3
   },
   "file_extension": ".py",
   "mimetype": "text/x-python",
   "name": "python",
   "nbconvert_exporter": "python",
   "pygments_lexer": "ipython3",
   "version": "3.10.0"
  }
 },
 "nbformat": 4,
 "nbformat_minor": 5
}
