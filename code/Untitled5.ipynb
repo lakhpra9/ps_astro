{
 "cells": [
  {
   "cell_type": "code",
   "execution_count": 1,
   "id": "3381f167",
   "metadata": {},
   "outputs": [
    {
     "ename": "KeyError",
     "evalue": "'address'",
     "output_type": "error",
     "traceback": [
      "\u001b[1;31m---------------------------------------------------------------------------\u001b[0m",
      "\u001b[1;31mKeyError\u001b[0m                                  Traceback (most recent call last)",
      "Cell \u001b[1;32mIn[1], line 14\u001b[0m\n\u001b[0;32m     11\u001b[0m     \u001b[38;5;28;01mreturn\u001b[39;00m timezone\n\u001b[0;32m     13\u001b[0m country \u001b[38;5;241m=\u001b[39m \u001b[38;5;124m'\u001b[39m\u001b[38;5;124mUnited States\u001b[39m\u001b[38;5;124m'\u001b[39m\n\u001b[1;32m---> 14\u001b[0m timezone \u001b[38;5;241m=\u001b[39m \u001b[43mget_utc_timezone\u001b[49m\u001b[43m(\u001b[49m\u001b[43mcountry\u001b[49m\u001b[43m)\u001b[49m\n\u001b[0;32m     15\u001b[0m \u001b[38;5;28mprint\u001b[39m(\u001b[38;5;124m'\u001b[39m\u001b[38;5;124mtimezone---------\u001b[39m\u001b[38;5;124m'\u001b[39m, timezone)\n",
      "Cell \u001b[1;32mIn[1], line 10\u001b[0m, in \u001b[0;36mget_utc_timezone\u001b[1;34m(country)\u001b[0m\n\u001b[0;32m      8\u001b[0m timezone \u001b[38;5;241m=\u001b[39m pytz\u001b[38;5;241m.\u001b[39mtimezone(\u001b[38;5;124m'\u001b[39m\u001b[38;5;124mUTC\u001b[39m\u001b[38;5;124m'\u001b[39m)\n\u001b[0;32m      9\u001b[0m \u001b[38;5;28;01mif\u001b[39;00m location \u001b[38;5;129;01mis\u001b[39;00m \u001b[38;5;129;01mnot\u001b[39;00m \u001b[38;5;28;01mNone\u001b[39;00m:\n\u001b[1;32m---> 10\u001b[0m     timezone \u001b[38;5;241m=\u001b[39m pytz\u001b[38;5;241m.\u001b[39mtimezone(pytz\u001b[38;5;241m.\u001b[39mcountry_timezones[\u001b[43mlocation\u001b[49m\u001b[38;5;241;43m.\u001b[39;49m\u001b[43mraw\u001b[49m\u001b[43m[\u001b[49m\u001b[38;5;124;43m'\u001b[39;49m\u001b[38;5;124;43maddress\u001b[39;49m\u001b[38;5;124;43m'\u001b[39;49m\u001b[43m]\u001b[49m[\u001b[38;5;124m'\u001b[39m\u001b[38;5;124mcountry_code\u001b[39m\u001b[38;5;124m'\u001b[39m]])\n\u001b[0;32m     11\u001b[0m \u001b[38;5;28;01mreturn\u001b[39;00m timezone\n",
      "\u001b[1;31mKeyError\u001b[0m: 'address'"
     ]
    }
   ],
   "source": [
    "import pytz\n",
    "from geopy.geocoders import Nominatim\n",
    "\n",
    "geolocator = Nominatim(user_agent=\"my_app\")\n",
    "\n",
    "def get_utc_timezone(country):\n",
    "    location = geolocator.geocode(country + ', Earth')\n",
    "    timezone = pytz.timezone('UTC')\n",
    "    if location is not None:\n",
    "        timezone = pytz.timezone(pytz.country_timezones[location.raw['address']['country_code']])\n",
    "    return timezone\n",
    "\n",
    "country = 'India'\n",
    "timezone = get_utc_timezone(country)\n",
    "print('timezone---------', timezone)\n"
   ]
  },
  {
   "cell_type": "code",
   "execution_count": 9,
   "id": "7c4c8b8c",
   "metadata": {},
   "outputs": [],
   "source": [
    "country = 'India'"
   ]
  },
  {
   "cell_type": "code",
   "execution_count": 10,
   "id": "f04363d0",
   "metadata": {},
   "outputs": [],
   "source": [
    "location = geolocator.geocode(country + ', Earth')"
   ]
  },
  {
   "cell_type": "code",
   "execution_count": 11,
   "id": "76b8255b",
   "metadata": {},
   "outputs": [
    {
     "data": {
      "text/plain": [
       "{'place_id': 74185431,\n",
       " 'licence': 'Data © OpenStreetMap contributors, ODbL 1.0. https://osm.org/copyright',\n",
       " 'osm_type': 'node',\n",
       " 'osm_id': 7103933236,\n",
       " 'boundingbox': ['10.6471381', '10.6472381', '76.0725359', '76.0726359'],\n",
       " 'lat': '10.6471881',\n",
       " 'lon': '76.0725859',\n",
       " 'display_name': 'Earth, 2nd Avenue Road, Kunnamkulam, Thrissur, Kerala, 680517, India',\n",
       " 'class': 'shop',\n",
       " 'type': 'clothes',\n",
       " 'importance': 0.22000999999999998,\n",
       " 'icon': 'https://nominatim.openstreetmap.org/ui/mapicons/shopping_clothes.p.20.png'}"
      ]
     },
     "execution_count": 11,
     "metadata": {},
     "output_type": "execute_result"
    }
   ],
   "source": [
    "location.raw"
   ]
  },
  {
   "cell_type": "code",
   "execution_count": 15,
   "id": "ba103870",
   "metadata": {},
   "outputs": [
    {
     "ename": "TypeError",
     "evalue": "string indices must be integers",
     "output_type": "error",
     "traceback": [
      "\u001b[1;31m---------------------------------------------------------------------------\u001b[0m",
      "\u001b[1;31mTypeError\u001b[0m                                 Traceback (most recent call last)",
      "Cell \u001b[1;32mIn[15], line 1\u001b[0m\n\u001b[1;32m----> 1\u001b[0m \u001b[43mlocation\u001b[49m\u001b[38;5;241;43m.\u001b[39;49m\u001b[43mraw\u001b[49m\u001b[43m[\u001b[49m\u001b[38;5;124;43m'\u001b[39;49m\u001b[38;5;124;43mdisplay_name\u001b[39;49m\u001b[38;5;124;43m'\u001b[39;49m\u001b[43m]\u001b[49m\u001b[43m[\u001b[49m\u001b[38;5;124;43m'\u001b[39;49m\u001b[38;5;124;43mcountry_code\u001b[39;49m\u001b[38;5;124;43m'\u001b[39;49m\u001b[43m]\u001b[49m\n",
      "\u001b[1;31mTypeError\u001b[0m: string indices must be integers"
     ]
    }
   ],
   "source": [
    "location.raw['display_name']['country_code']"
   ]
  },
  {
   "cell_type": "code",
   "execution_count": 20,
   "id": "b59bf912",
   "metadata": {},
   "outputs": [
    {
     "data": {
      "text/plain": [
       "<DstTzInfo 'Asia/Kolkata' LMT+5:53:00 STD>"
      ]
     },
     "execution_count": 20,
     "metadata": {},
     "output_type": "execute_result"
    }
   ],
   "source": [
    "pytz.timezone(pytz.country_timezones['IN'][0])"
   ]
  },
  {
   "cell_type": "code",
   "execution_count": 16,
   "id": "3778ed1b",
   "metadata": {},
   "outputs": [
    {
     "data": {
      "text/plain": [
       "['Asia/Kolkata']"
      ]
     },
     "execution_count": 16,
     "metadata": {},
     "output_type": "execute_result"
    }
   ],
   "source": []
  },
  {
   "cell_type": "code",
   "execution_count": 2,
   "id": "e4a4be40",
   "metadata": {},
   "outputs": [
    {
     "ename": "KeyError",
     "evalue": "'address'",
     "output_type": "error",
     "traceback": [
      "\u001b[1;31m---------------------------------------------------------------------------\u001b[0m",
      "\u001b[1;31mKeyError\u001b[0m                                  Traceback (most recent call last)",
      "Cell \u001b[1;32mIn[2], line 4\u001b[0m\n\u001b[0;32m      2\u001b[0m timezone \u001b[38;5;241m=\u001b[39m pytz\u001b[38;5;241m.\u001b[39mtimezone(\u001b[38;5;124m'\u001b[39m\u001b[38;5;124mUTC\u001b[39m\u001b[38;5;124m'\u001b[39m)\n\u001b[0;32m      3\u001b[0m \u001b[38;5;28;01mif\u001b[39;00m location \u001b[38;5;129;01mis\u001b[39;00m \u001b[38;5;129;01mnot\u001b[39;00m \u001b[38;5;28;01mNone\u001b[39;00m:\n\u001b[1;32m----> 4\u001b[0m     timezone \u001b[38;5;241m=\u001b[39m pytz\u001b[38;5;241m.\u001b[39mtimezone(pytz\u001b[38;5;241m.\u001b[39mcountry_timezones[\u001b[43mlocation\u001b[49m\u001b[38;5;241;43m.\u001b[39;49m\u001b[43mraw\u001b[49m\u001b[43m[\u001b[49m\u001b[38;5;124;43m'\u001b[39;49m\u001b[38;5;124;43maddress\u001b[39;49m\u001b[38;5;124;43m'\u001b[39;49m\u001b[43m]\u001b[49m[\u001b[38;5;124m'\u001b[39m\u001b[38;5;124mcountry_code\u001b[39m\u001b[38;5;124m'\u001b[39m]])\n",
      "\u001b[1;31mKeyError\u001b[0m: 'address'"
     ]
    }
   ],
   "source": [
    "location = geolocator.geocode(country + ', Earth')\n",
    "timezone = pytz.timezone('UTC')\n",
    "if location is not None:\n",
    "    timezone = pytz.timezone(pytz.country_timezones[location.raw['address']['country_code']])"
   ]
  },
  {
   "cell_type": "code",
   "execution_count": 8,
   "id": "1b6bdeab",
   "metadata": {},
   "outputs": [
    {
     "data": {
      "text/plain": [
       "{'place_id': 74185431,\n",
       " 'licence': 'Data © OpenStreetMap contributors, ODbL 1.0. https://osm.org/copyright',\n",
       " 'osm_type': 'node',\n",
       " 'osm_id': 7103933236,\n",
       " 'boundingbox': ['10.6471381', '10.6472381', '76.0725359', '76.0726359'],\n",
       " 'lat': '10.6471881',\n",
       " 'lon': '76.0725859',\n",
       " 'display_name': 'Earth, 2nd Avenue Road, Kunnamkulam, Thrissur, Kerala, 680517, India',\n",
       " 'class': 'shop',\n",
       " 'type': 'clothes',\n",
       " 'importance': 0.22000999999999998,\n",
       " 'icon': 'https://nominatim.openstreetmap.org/ui/mapicons/shopping_clothes.p.20.png'}"
      ]
     },
     "execution_count": 8,
     "metadata": {},
     "output_type": "execute_result"
    }
   ],
   "source": []
  },
  {
   "cell_type": "code",
   "execution_count": 3,
   "id": "0d9bdd0a",
   "metadata": {},
   "outputs": [
    {
     "data": {
      "text/plain": [
       "['__class__',\n",
       " '__delattr__',\n",
       " '__dir__',\n",
       " '__doc__',\n",
       " '__eq__',\n",
       " '__format__',\n",
       " '__ge__',\n",
       " '__getattribute__',\n",
       " '__getitem__',\n",
       " '__getstate__',\n",
       " '__gt__',\n",
       " '__hash__',\n",
       " '__init__',\n",
       " '__init_subclass__',\n",
       " '__iter__',\n",
       " '__le__',\n",
       " '__len__',\n",
       " '__lt__',\n",
       " '__module__',\n",
       " '__ne__',\n",
       " '__new__',\n",
       " '__reduce__',\n",
       " '__reduce_ex__',\n",
       " '__repr__',\n",
       " '__setattr__',\n",
       " '__setstate__',\n",
       " '__sizeof__',\n",
       " '__slots__',\n",
       " '__str__',\n",
       " '__subclasshook__',\n",
       " '_address',\n",
       " '_point',\n",
       " '_raw',\n",
       " '_tuple',\n",
       " 'address',\n",
       " 'altitude',\n",
       " 'latitude',\n",
       " 'longitude',\n",
       " 'point',\n",
       " 'raw']"
      ]
     },
     "execution_count": 3,
     "metadata": {},
     "output_type": "execute_result"
    }
   ],
   "source": [
    "dir(location)"
   ]
  },
  {
   "cell_type": "code",
   "execution_count": null,
   "id": "2e535161",
   "metadata": {},
   "outputs": [],
   "source": []
  }
 ],
 "metadata": {
  "kernelspec": {
   "display_name": "venv",
   "language": "python",
   "name": "venv"
  },
  "language_info": {
   "codemirror_mode": {
    "name": "ipython",
    "version": 3
   },
   "file_extension": ".py",
   "mimetype": "text/x-python",
   "name": "python",
   "nbconvert_exporter": "python",
   "pygments_lexer": "ipython3",
   "version": "3.10.0"
  }
 },
 "nbformat": 4,
 "nbformat_minor": 5
}
