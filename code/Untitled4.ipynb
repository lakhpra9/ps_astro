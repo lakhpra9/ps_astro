{
 "cells": [
  {
   "cell_type": "code",
   "execution_count": 43,
   "id": "6baed873",
   "metadata": {},
   "outputs": [],
   "source": [
    "import pytz\n",
    "from geopy.geocoders import Nominatim\n",
    "geolocator = Nominatim(user_agent=\"my_app\")"
   ]
  },
  {
   "cell_type": "code",
   "execution_count": 35,
   "id": "3c843f27",
   "metadata": {},
   "outputs": [
    {
     "ename": "TypeError",
     "evalue": "_CountryTimezoneDict.__call__() missing 1 required positional argument: 'iso3166_code'",
     "output_type": "error",
     "traceback": [
      "\u001b[1;31m---------------------------------------------------------------------------\u001b[0m",
      "\u001b[1;31mTypeError\u001b[0m                                 Traceback (most recent call last)",
      "Cell \u001b[1;32mIn[35], line 1\u001b[0m\n\u001b[1;32m----> 1\u001b[0m \u001b[43mpytz\u001b[49m\u001b[38;5;241;43m.\u001b[39;49m\u001b[43mcountry_timezones\u001b[49m\u001b[43m(\u001b[49m\u001b[43m)\u001b[49m\n",
      "\u001b[1;31mTypeError\u001b[0m: _CountryTimezoneDict.__call__() missing 1 required positional argument: 'iso3166_code'"
     ]
    }
   ],
   "source": [
    "pytz.country_timezones()"
   ]
  },
  {
   "cell_type": "code",
   "execution_count": null,
   "id": "8f0c1aa7",
   "metadata": {},
   "outputs": [],
   "source": []
  },
  {
   "cell_type": "code",
   "execution_count": 44,
   "id": "6275a036",
   "metadata": {},
   "outputs": [],
   "source": [
    "country = 'India'"
   ]
  },
  {
   "cell_type": "code",
   "execution_count": 33,
   "id": "38996400",
   "metadata": {},
   "outputs": [
    {
     "data": {
      "text/plain": [
       "['Asia/Kolkata', 'Asia/Srednekolymsk']"
      ]
     },
     "execution_count": 33,
     "metadata": {},
     "output_type": "execute_result"
    }
   ],
   "source": [
    "[i for i in pytz.all_timezones if country.lower() in i.lower()]"
   ]
  },
  {
   "cell_type": "code",
   "execution_count": 14,
   "id": "d23231ca",
   "metadata": {},
   "outputs": [
    {
     "data": {
      "text/plain": [
       "Location(India, (22.3511148, 78.6677428, 0.0))"
      ]
     },
     "execution_count": 14,
     "metadata": {},
     "output_type": "execute_result"
    }
   ],
   "source": [
    "geolocator.geocode('India')"
   ]
  },
  {
   "cell_type": "code",
   "execution_count": 45,
   "id": "4ae9337d",
   "metadata": {},
   "outputs": [],
   "source": [
    "location = geolocator.geocode(country)"
   ]
  },
  {
   "cell_type": "code",
   "execution_count": 48,
   "id": "2169c9f2",
   "metadata": {},
   "outputs": [
    {
     "data": {
      "text/plain": [
       "'India'"
      ]
     },
     "execution_count": 48,
     "metadata": {},
     "output_type": "execute_result"
    }
   ],
   "source": [
    "location.address.split(',')[-1].strip()"
   ]
  },
  {
   "cell_type": "code",
   "execution_count": 54,
   "id": "c27d642f",
   "metadata": {},
   "outputs": [],
   "source": [
    "x = [j for v in dict(pytz.country_timezones).values() for j in v]"
   ]
  },
  {
   "cell_type": "code",
   "execution_count": 55,
   "id": "cc414e27",
   "metadata": {},
   "outputs": [
    {
     "data": {
      "text/plain": [
       "['Indian/Cocos',\n",
       " 'Indian/Christmas',\n",
       " 'Indian/Chagos',\n",
       " 'Indian/Comoro',\n",
       " 'Indian/Antananarivo',\n",
       " 'Indian/Mauritius',\n",
       " 'Indian/Maldives',\n",
       " 'Indian/Reunion',\n",
       " 'Indian/Mahe',\n",
       " 'Indian/Kerguelen',\n",
       " 'America/Indiana/Indianapolis',\n",
       " 'America/Indiana/Vincennes',\n",
       " 'America/Indiana/Winamac',\n",
       " 'America/Indiana/Marengo',\n",
       " 'America/Indiana/Petersburg',\n",
       " 'America/Indiana/Vevay',\n",
       " 'America/Indiana/Tell_City',\n",
       " 'America/Indiana/Knox',\n",
       " 'Indian/Mayotte']"
      ]
     },
     "execution_count": 55,
     "metadata": {},
     "output_type": "execute_result"
    }
   ],
   "source": [
    "[i for i in x if country.lower() in i.lower()]"
   ]
  },
  {
   "cell_type": "code",
   "execution_count": 58,
   "id": "32e34954",
   "metadata": {},
   "outputs": [],
   "source": [
    "timezone = pytz.timezone('UTC')"
   ]
  },
  {
   "cell_type": "code",
   "execution_count": 59,
   "id": "4e4d8015",
   "metadata": {},
   "outputs": [
    {
     "data": {
      "text/plain": [
       "<DstTzInfo 'Asia/Kolkata' LMT+5:53:00 STD>"
      ]
     },
     "execution_count": 59,
     "metadata": {},
     "output_type": "execute_result"
    }
   ],
   "source": [
    "pytz.timezone('Asia/Kolkata')"
   ]
  },
  {
   "cell_type": "code",
   "execution_count": 15,
   "id": "a3c7f57a",
   "metadata": {},
   "outputs": [
    {
     "data": {
      "text/plain": [
       "<UTC>"
      ]
     },
     "execution_count": 15,
     "metadata": {},
     "output_type": "execute_result"
    }
   ],
   "source": [
    "pytz.timezone('UTC')"
   ]
  },
  {
   "cell_type": "code",
   "execution_count": null,
   "id": "9484bf19",
   "metadata": {},
   "outputs": [],
   "source": []
  },
  {
   "cell_type": "code",
   "execution_count": null,
   "id": "4f2d896f",
   "metadata": {},
   "outputs": [],
   "source": []
  },
  {
   "cell_type": "code",
   "execution_count": 9,
   "id": "07d92556",
   "metadata": {},
   "outputs": [],
   "source": [
    "def get_utc_timezone(country):\n",
    "    location = geolocator.geocode(country)\n",
    "    timezone = pytz.timezone('UTC')\n",
    "    if location is not None:\n",
    "        timezone = pytz.timezone(pytz.country_timezones[location.address.split(',')[-1].strip()])\n",
    "    return timezone"
   ]
  },
  {
   "cell_type": "code",
   "execution_count": 10,
   "id": "8aedb8fc",
   "metadata": {},
   "outputs": [
    {
     "ename": "KeyError",
     "evalue": "'UNITED STATES'",
     "output_type": "error",
     "traceback": [
      "\u001b[1;31m---------------------------------------------------------------------------\u001b[0m",
      "\u001b[1;31mKeyError\u001b[0m                                  Traceback (most recent call last)",
      "Cell \u001b[1;32mIn[10], line 14\u001b[0m\n\u001b[0;32m     11\u001b[0m     \u001b[38;5;28;01mreturn\u001b[39;00m timezone\n\u001b[0;32m     13\u001b[0m country \u001b[38;5;241m=\u001b[39m \u001b[38;5;124m'\u001b[39m\u001b[38;5;124mUnited States\u001b[39m\u001b[38;5;124m'\u001b[39m\n\u001b[1;32m---> 14\u001b[0m timezone \u001b[38;5;241m=\u001b[39m \u001b[43mget_utc_timezone\u001b[49m\u001b[43m(\u001b[49m\u001b[43mcountry\u001b[49m\u001b[43m)\u001b[49m\n\u001b[0;32m     15\u001b[0m \u001b[38;5;28mprint\u001b[39m(\u001b[38;5;124m'\u001b[39m\u001b[38;5;124mtimezone---------\u001b[39m\u001b[38;5;124m'\u001b[39m, timezone)\n",
      "Cell \u001b[1;32mIn[10], line 10\u001b[0m, in \u001b[0;36mget_utc_timezone\u001b[1;34m(country)\u001b[0m\n\u001b[0;32m      8\u001b[0m timezone \u001b[38;5;241m=\u001b[39m pytz\u001b[38;5;241m.\u001b[39mtimezone(\u001b[38;5;124m'\u001b[39m\u001b[38;5;124mUTC\u001b[39m\u001b[38;5;124m'\u001b[39m)\n\u001b[0;32m      9\u001b[0m \u001b[38;5;28;01mif\u001b[39;00m location \u001b[38;5;129;01mis\u001b[39;00m \u001b[38;5;129;01mnot\u001b[39;00m \u001b[38;5;28;01mNone\u001b[39;00m:\n\u001b[1;32m---> 10\u001b[0m     timezone \u001b[38;5;241m=\u001b[39m pytz\u001b[38;5;241m.\u001b[39mtimezone(\u001b[43mpytz\u001b[49m\u001b[38;5;241;43m.\u001b[39;49m\u001b[43mcountry_timezones\u001b[49m\u001b[43m[\u001b[49m\u001b[43mlocation\u001b[49m\u001b[38;5;241;43m.\u001b[39;49m\u001b[43maddress\u001b[49m\u001b[38;5;241;43m.\u001b[39;49m\u001b[43msplit\u001b[49m\u001b[43m(\u001b[49m\u001b[38;5;124;43m'\u001b[39;49m\u001b[38;5;124;43m,\u001b[39;49m\u001b[38;5;124;43m'\u001b[39;49m\u001b[43m)\u001b[49m\u001b[43m[\u001b[49m\u001b[38;5;241;43m-\u001b[39;49m\u001b[38;5;241;43m1\u001b[39;49m\u001b[43m]\u001b[49m\u001b[38;5;241;43m.\u001b[39;49m\u001b[43mstrip\u001b[49m\u001b[43m(\u001b[49m\u001b[43m)\u001b[49m\u001b[43m]\u001b[49m)\n\u001b[0;32m     11\u001b[0m \u001b[38;5;28;01mreturn\u001b[39;00m timezone\n",
      "File \u001b[1;32m~\\Documents\\IT Solutions\\Projects\\2023\\psAstroMatch\\venv\\lib\\site-packages\\pytz\\lazy.py:28\u001b[0m, in \u001b[0;36mLazyDict.__getitem__\u001b[1;34m(self, key)\u001b[0m\n\u001b[0;32m     26\u001b[0m     \u001b[38;5;28;01mfinally\u001b[39;00m:\n\u001b[0;32m     27\u001b[0m         _fill_lock\u001b[38;5;241m.\u001b[39mrelease()\n\u001b[1;32m---> 28\u001b[0m \u001b[38;5;28;01mreturn\u001b[39;00m \u001b[38;5;28;43mself\u001b[39;49m\u001b[38;5;241;43m.\u001b[39;49m\u001b[43mdata\u001b[49m\u001b[43m[\u001b[49m\u001b[43mkey\u001b[49m\u001b[38;5;241;43m.\u001b[39;49m\u001b[43mupper\u001b[49m\u001b[43m(\u001b[49m\u001b[43m)\u001b[49m\u001b[43m]\u001b[49m\n",
      "\u001b[1;31mKeyError\u001b[0m: 'UNITED STATES'"
     ]
    }
   ],
   "source": [
    "import pytz\n",
    "from geopy.geocoders import Nominatim\n",
    "\n",
    "geolocator = Nominatim(user_agent=\"my_app\")\n",
    "\n",
    "def get_utc_timezone(country):\n",
    "    location = geolocator.geocode(country)\n",
    "    timezone = pytz.timezone('UTC')\n",
    "    if location is not None:\n",
    "        timezone = pytz.timezone(pytz.country_timezones[location.address.split(',')[-1].strip()])\n",
    "    return timezone\n",
    "\n",
    "country = 'United States'\n",
    "timezone = get_utc_timezone(country)\n",
    "print('timezone---------', timezone)"
   ]
  },
  {
   "cell_type": "code",
   "execution_count": 12,
   "id": "dfaa199e",
   "metadata": {},
   "outputs": [
    {
     "ename": "KeyError",
     "evalue": "'INDIA'",
     "output_type": "error",
     "traceback": [
      "\u001b[1;31m---------------------------------------------------------------------------\u001b[0m",
      "\u001b[1;31mKeyError\u001b[0m                                  Traceback (most recent call last)",
      "Cell \u001b[1;32mIn[12], line 14\u001b[0m\n\u001b[0;32m     11\u001b[0m     \u001b[38;5;28;01mreturn\u001b[39;00m timezone\n\u001b[0;32m     13\u001b[0m country \u001b[38;5;241m=\u001b[39m \u001b[38;5;124m'\u001b[39m\u001b[38;5;124mIndia\u001b[39m\u001b[38;5;124m'\u001b[39m\n\u001b[1;32m---> 14\u001b[0m timezone \u001b[38;5;241m=\u001b[39m \u001b[43mget_utc_timezone\u001b[49m\u001b[43m(\u001b[49m\u001b[43mcountry\u001b[49m\u001b[43m)\u001b[49m\n\u001b[0;32m     15\u001b[0m \u001b[38;5;28mprint\u001b[39m(\u001b[38;5;124m'\u001b[39m\u001b[38;5;124mtimezone---------\u001b[39m\u001b[38;5;124m'\u001b[39m, timezone)\n",
      "Cell \u001b[1;32mIn[12], line 10\u001b[0m, in \u001b[0;36mget_utc_timezone\u001b[1;34m(country)\u001b[0m\n\u001b[0;32m      8\u001b[0m timezone \u001b[38;5;241m=\u001b[39m pytz\u001b[38;5;241m.\u001b[39mtimezone(\u001b[38;5;124m'\u001b[39m\u001b[38;5;124mUTC\u001b[39m\u001b[38;5;124m'\u001b[39m)\n\u001b[0;32m      9\u001b[0m \u001b[38;5;28;01mif\u001b[39;00m location \u001b[38;5;129;01mis\u001b[39;00m \u001b[38;5;129;01mnot\u001b[39;00m \u001b[38;5;28;01mNone\u001b[39;00m:\n\u001b[1;32m---> 10\u001b[0m     timezone \u001b[38;5;241m=\u001b[39m pytz\u001b[38;5;241m.\u001b[39mtimezone(\u001b[43mpytz\u001b[49m\u001b[38;5;241;43m.\u001b[39;49m\u001b[43mcountry_timezones\u001b[49m\u001b[43m[\u001b[49m\u001b[43mlocation\u001b[49m\u001b[38;5;241;43m.\u001b[39;49m\u001b[43maddress\u001b[49m\u001b[38;5;241;43m.\u001b[39;49m\u001b[43msplit\u001b[49m\u001b[43m(\u001b[49m\u001b[38;5;124;43m'\u001b[39;49m\u001b[38;5;124;43m,\u001b[39;49m\u001b[38;5;124;43m'\u001b[39;49m\u001b[43m)\u001b[49m\u001b[43m[\u001b[49m\u001b[38;5;241;43m-\u001b[39;49m\u001b[38;5;241;43m1\u001b[39;49m\u001b[43m]\u001b[49m\u001b[38;5;241;43m.\u001b[39;49m\u001b[43mstrip\u001b[49m\u001b[43m(\u001b[49m\u001b[43m)\u001b[49m\u001b[43m]\u001b[49m)\n\u001b[0;32m     11\u001b[0m \u001b[38;5;28;01mreturn\u001b[39;00m timezone\n",
      "File \u001b[1;32m~\\Documents\\IT Solutions\\Projects\\2023\\psAstroMatch\\venv\\lib\\site-packages\\pytz\\lazy.py:28\u001b[0m, in \u001b[0;36mLazyDict.__getitem__\u001b[1;34m(self, key)\u001b[0m\n\u001b[0;32m     26\u001b[0m     \u001b[38;5;28;01mfinally\u001b[39;00m:\n\u001b[0;32m     27\u001b[0m         _fill_lock\u001b[38;5;241m.\u001b[39mrelease()\n\u001b[1;32m---> 28\u001b[0m \u001b[38;5;28;01mreturn\u001b[39;00m \u001b[38;5;28;43mself\u001b[39;49m\u001b[38;5;241;43m.\u001b[39;49m\u001b[43mdata\u001b[49m\u001b[43m[\u001b[49m\u001b[43mkey\u001b[49m\u001b[38;5;241;43m.\u001b[39;49m\u001b[43mupper\u001b[49m\u001b[43m(\u001b[49m\u001b[43m)\u001b[49m\u001b[43m]\u001b[49m\n",
      "\u001b[1;31mKeyError\u001b[0m: 'INDIA'"
     ]
    }
   ],
   "source": [
    "import pytz\n",
    "from geopy.geocoders import Nominatim\n",
    "\n",
    "geolocator = Nominatim(user_agent=\"my_app\")\n",
    "\n",
    "def get_utc_timezone(country):\n",
    "    location = geolocator.geocode(country + ', Earth')\n",
    "    timezone = pytz.timezone('UTC')\n",
    "    if location is not None:\n",
    "        timezone = pytz.timezone(pytz.country_timezones[location.address.split(',')[-1].strip()])\n",
    "    return timezone\n",
    "\n",
    "country = 'India'\n",
    "timezone = get_utc_timezone(country)\n",
    "print('timezone---------', timezone)\n"
   ]
  },
  {
   "cell_type": "code",
   "execution_count": null,
   "id": "122c39e1",
   "metadata": {},
   "outputs": [],
   "source": [
    "country = 'United States'\n",
    "timezone = get_utc_timezone(country)\n",
    "print('timezone---------', timezone)"
   ]
  },
  {
   "cell_type": "code",
   "execution_count": null,
   "id": "fecdd2a6",
   "metadata": {},
   "outputs": [],
   "source": []
  }
 ],
 "metadata": {
  "kernelspec": {
   "display_name": "venv",
   "language": "python",
   "name": "venv"
  },
  "language_info": {
   "codemirror_mode": {
    "name": "ipython",
    "version": 3
   },
   "file_extension": ".py",
   "mimetype": "text/x-python",
   "name": "python",
   "nbconvert_exporter": "python",
   "pygments_lexer": "ipython3",
   "version": "3.10.0"
  }
 },
 "nbformat": 4,
 "nbformat_minor": 5
}
